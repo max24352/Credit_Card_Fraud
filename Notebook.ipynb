{
 "cells": [
  {
   "cell_type": "code",
   "execution_count": null,
   "id": "f412fe49",
   "metadata": {},
   "outputs": [],
   "source": [
    "import pandas as pd\n",
    "import numpy as np\n",
    "import matplotlib.pyplot as plt\n",
    "import seaborn as sns\n",
    "import shap\n",
    "\n",
    "from sklearn.model_selection import train_test_split\n",
    "from sklearn.preprocessing import StandardScaler\n",
    "from sklearn.linear_model import LogisticRegression\n",
    "from sklearn.metrics import (\n",
    "    classification_report, confusion_matrix, roc_auc_score,\n",
    "    precision_recall_curve, auc, precision_score, recall_score, f1_score\n",
    ")\n",
    "from imblearn.over_sampling import SMOTE\n",
    "from sklearn.model_selection import StratifiedKFold, cross_val_predict\n",
    "from sklearn.metrics import roc_auc_score, precision_recall_curve, auc, make_scorer\n",
    "from sklearn.pipeline import Pipeline\n",
    "from imblearn.pipeline import Pipeline as ImbPipeline\n",
    "from sklearn.model_selection import cross_validate"
   ]
  },
  {
   "cell_type": "code",
   "execution_count": null,
   "id": "dcb20848",
   "metadata": {},
   "outputs": [],
   "source": [
    "# Load dataset\n",
    "df = pd.read_csv(\"C:/Users/maxhi/Documents/GitHub/Credit_Card_Fraud_Detection/creditcard.csv\")"
   ]
  },
  {
   "cell_type": "code",
   "execution_count": null,
   "id": "b100d97e",
   "metadata": {},
   "outputs": [],
   "source": [
    "# Basic data check\n",
    "print(df.shape)\n",
    "print(df['Class'].value_counts(normalize=True))  # Shows class imbalance - fraud rate of ~0.17%\n",
    "print(df.isnull().sum())"
   ]
  },
  {
   "cell_type": "code",
   "execution_count": null,
   "id": "67748ff9",
   "metadata": {},
   "outputs": [],
   "source": [
    "# Scale 'Amount' and 'Time' only, as v1-v28 are already standardised (via PCA)\n",
    "scaler = StandardScaler()\n",
    "df[['Scaled_Amount', 'Scaled_Time']] = scaler.fit_transform(df[['Amount', 'Time']])\n",
    "df.drop(['Amount', 'Time'], axis=1, inplace=True)"
   ]
  },
  {
   "cell_type": "code",
   "execution_count": null,
   "id": "e6245608",
   "metadata": {},
   "outputs": [],
   "source": [
    "# Define X and y\n",
    "X = df.drop('Class', axis=1)\n",
    "y = df['Class']"
   ]
  },
  {
   "cell_type": "code",
   "execution_count": null,
   "id": "e7bc1882",
   "metadata": {},
   "outputs": [],
   "source": [
    "# Train-test split (stratified), 30% test data\n",
    "X_train, X_test, y_train, y_test = train_test_split(\n",
    "    X, y, test_size=0.3, stratify=y, random_state=10\n",
    ")"
   ]
  },
  {
   "cell_type": "code",
   "execution_count": null,
   "id": "62dc0e63",
   "metadata": {},
   "outputs": [],
   "source": [
    "# Handle imbalance with SMOTE -- decided on SMOTE, as planning to use log regression, and this will help with underfitting\n",
    "print(\"Before SMOTE:\", y_train.value_counts())\n",
    "smote = SMOTE(random_state=10)\n",
    "X_train_resampled, y_train_resampled = smote.fit_resample(X_train, y_train)\n",
    "print(\"After SMOTE:\", y_train_resampled.value_counts())"
   ]
  }
 ],
 "metadata": {
  "language_info": {
   "name": "python"
  }
 },
 "nbformat": 4,
 "nbformat_minor": 5
}
